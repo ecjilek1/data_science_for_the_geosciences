{
 "cells": [
  {
   "cell_type": "markdown",
   "id": "a15c4ad3-3bb7-48e1-aeff-3028a3a95a91",
   "metadata": {},
   "source": [
    "### Example: analyzing temp data"
   ]
  },
  {
   "cell_type": "code",
   "execution_count": 1,
   "id": "06097208-4a5d-4409-9c02-dd1cf0185c28",
   "metadata": {},
   "outputs": [],
   "source": [
    "#Create a data frame with daily temp records and compute the average temp\n",
    "import pandas as pd"
   ]
  },
  {
   "cell_type": "code",
   "execution_count": null,
   "id": "30c688ac-7105-4e9b-ae35-321308a564b7",
   "metadata": {},
   "outputs": [],
   "source": [
    "# UPDATED VERSION\n",
    "#Let's create a data frame\n",
    "data = {\n",
    "    \"Date\": pd.date_range(start = \"2024-01-01\", periods = 7, freq = \"D\"),\n",
    "    \"Temperature_C\": [5,7,6,8,9,4,3]\n",
    "}\n",
    "\n",
    "df = pd.DataFrame(data)\n",
    "\n",
    "#Add a new column converting C to F\n",
    "df[\"Temperature_F\"] = df[\"Temperature_C\"] * 9/5 + 32\n",
    "\n",
    "#Compute the statistics\n",
    "avg_temp_c = df[\"Temperature_C\"].mean()\n",
    "max_temp_c = df[\"Temperature_C\"].max()\n",
    "min_temp_c = df[\"Temperature_C\"].min()\n",
    "\n",
    "#Display the data\n",
    "print(df)\n",
    "print(\"\\nTemperature Stats (Celsius):\")\n",
    "print(f\"Average: {avg_temp_c:.2f}°C, Max: {max_temp_c}°C, Min: {min_temp_c}°C\")\n",
    "                          "
   ]
  },
  {
   "cell_type": "markdown",
   "id": "c123be6c-b7ee-4382-80b7-e43859dfb5b0",
   "metadata": {},
   "source": [
    "### Pandas and Matplotlib"
   ]
  },
  {
   "cell_type": "code",
   "execution_count": 4,
   "id": "3f550d96-7bec-41d5-a592-faeb1bf05721",
   "metadata": {},
   "outputs": [],
   "source": [
    "import matplotlib.pyplot as plt"
   ]
  },
  {
   "cell_type": "code",
   "execution_count": null,
   "id": "c0d63140-b81d-42da-9e04-0a59928952b9",
   "metadata": {},
   "outputs": [],
   "source": [
    "# Create sample data\n",
    "data = {\n",
    "    \"Date\": pd.date_range(start=\"2024-01-01\", periods=7, freq=\"D\"),\n",
    "    \"Temperature_C\": [5, 7, 6, 8, 9, 4, 3]\n",
    "}\n",
    "\n",
    "df = pd.DataFrame(data)\n",
    "\n",
    "# Convert C to F again\n",
    "df[\"Temperature_F\"] = df[\"Temperature_C\"] * 9/5 + 32\n",
    "\n",
    "#Plot the temp trend\n",
    "plt.figure(figsize=(8, 5))\n",
    "plt.plot(df[\"Date\"], df[\"Temperature_C\"], marker=\"o\", linestyle=\"-\", color=\"b\", label=\"Celsius\") #'o' is used to distinguish the data set\n",
    "plt.plot(df[\"Date\"], df[\"Temperature_F\"], marker=\"s\", linestyle=\"--\", color=\"r\", label=\"Fahrenheit\") #'s' is used to distinguis the data set\n",
    "\n",
    "#Customize the plot\n",
    "plt.xlabel(\"Date\")\n",
    "plt.ylabel(\"Temperature\")\n",
    "plt.title(\"Daily Temperature Trends\")\n",
    "plt.legend()\n",
    "plt.grid(True)\n",
    "\n",
    "plt.show() #how data can be plotted on a graphical standpoint"
   ]
  },
  {
   "cell_type": "markdown",
   "id": "6009da67-be76-4eb0-bbcb-09f6f4b37a41",
   "metadata": {},
   "source": [
    "### Another Pandas Example: Monthly sales data"
   ]
  },
  {
   "cell_type": "code",
   "execution_count": 7,
   "id": "a15d2a6e-9a07-4eef-82b0-a1665acbcef5",
   "metadata": {},
   "outputs": [
    {
     "name": "stdout",
     "output_type": "stream",
     "text": [
      "Total Sales Per Product:\n",
      "Product\n",
      "a    89\n",
      "b    86\n",
      "c    65\n",
      "Name: Sales, dtype: int64\n",
      "\n",
      "Monthly Sales Trend:\n",
      "Date\n",
      "April        22\n",
      "August       23\n",
      "December     25\n",
      "February     20\n",
      "January      15\n",
      "July         17\n",
      "June         19\n",
      "March        18\n",
      "May          21\n",
      "November     24\n",
      "October      16\n",
      "September    20\n",
      "Name: Sales, dtype: int64\n"
     ]
    }
   ],
   "source": [
    "#Create a new sample data\n",
    "data = {\n",
    "    \"Date\": pd.date_range(start=\"2024-01-01\", periods=12, freq=\"M\"),\n",
    "    \"Product\": [\"a\", \"b\", \"a\", \"c\", \"b\", \"c\", \"a\", \"a\", \"b\", \"a\", \"c\", \"b\"],\n",
    "    \"Sales\": [15, 20, 18, 22, 21, 19, 17, 23, 20, 16, 24, 25]\n",
    "}\n",
    "\n",
    "df = pd.DataFrame(data)\n",
    "\n",
    "#Total sales per product\n",
    "sales_per_product = df.groupby(\"Product\")[\"Sales\"].sum()\n",
    "\n",
    "#Trending montly sales \n",
    "monthly_sales = df.groupby(df[\"Date\"].dt.strftime(\"%B\"))[\"Sales\"].sum() #groupby aggregates the sales buy the product\n",
    "#dt.strftime(\"%B\") extracts the month and sum sales\n",
    "\n",
    "#Display the trend\n",
    "print(\"Total Sales Per Product:\")\n",
    "print(sales_per_product)\n",
    "print(\"\\nMonthly Sales Trend:\")\n",
    "print(monthly_sales)\n"
   ]
  },
  {
   "cell_type": "code",
   "execution_count": null,
   "id": "7e3bad9a-e5f9-4ae0-a07f-d26d09ca4d07",
   "metadata": {},
   "outputs": [],
   "source": []
  }
 ],
 "metadata": {
  "kernelspec": {
   "display_name": "Python 3 (ipykernel)",
   "language": "python",
   "name": "python3"
  },
  "language_info": {
   "codemirror_mode": {
    "name": "ipython",
    "version": 3
   },
   "file_extension": ".py",
   "mimetype": "text/x-python",
   "name": "python",
   "nbconvert_exporter": "python",
   "pygments_lexer": "ipython3",
   "version": "3.9.12"
  }
 },
 "nbformat": 4,
 "nbformat_minor": 5
}
